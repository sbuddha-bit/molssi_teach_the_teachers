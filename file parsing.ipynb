{
 "cells": [
  {
   "cell_type": "code",
   "execution_count": 1,
   "metadata": {},
   "outputs": [
    {
     "name": "stdout",
     "output_type": "stream",
     "text": [
      " Volume in drive C is Local Disk\n",
      " Volume Serial Number is 44C6-3E83\n",
      "\n",
      " Directory of C:\\Users\\tbsha\\OneDrive\\Desktop\\cms_workshop\\data\n",
      "\n",
      "\n",
      " Directory of C:\\Users\\tbsha\\OneDrive\\Desktop\\cms_workshop\\data\n",
      "\n",
      "08/08/2019  12:52 PM    <DIR>          .\n",
      "08/08/2019  12:52 PM    <DIR>          .\n",
      "08/08/2019  12:52 PM    <DIR>          ..\n",
      "08/08/2019  12:52 PM    <DIR>          ..\n",
      "08/08/2019  12:52 PM    <DIR>          data\n",
      "08/08/2019  12:52 PM    <DIR>          data\n",
      "               0 File(s)              0 bytes\n",
      "               6 Dir(s)  182,466,555,904 bytes free\n"
     ]
    }
   ],
   "source": [
    "ls data,data\n"
   ]
  },
  {
   "cell_type": "code",
   "execution_count": 2,
   "metadata": {},
   "outputs": [
    {
     "name": "stdout",
     "output_type": "stream",
     "text": [
      " Volume in drive C is Local Disk\n",
      " Volume Serial Number is 44C6-3E83\n",
      "\n",
      " Directory of C:\\Users\\tbsha\\OneDrive\\Desktop\\cms_workshop\\data\n",
      "\n",
      "08/08/2019  12:52 PM    <DIR>          .\n",
      "08/08/2019  12:52 PM    <DIR>          ..\n",
      "08/08/2019  12:52 PM    <DIR>          data\n",
      "               0 File(s)              0 bytes\n",
      "               3 Dir(s)  182,466,539,520 bytes free\n"
     ]
    }
   ],
   "source": [
    "ls data\n"
   ]
  },
  {
   "cell_type": "code",
   "execution_count": 16,
   "metadata": {},
   "outputs": [
    {
     "ename": "NameError",
     "evalue": "name 'ethano_file' is not defined",
     "output_type": "error",
     "traceback": [
      "\u001b[1;31m---------------------------------------------------------------------------\u001b[0m",
      "\u001b[1;31mNameError\u001b[0m                                 Traceback (most recent call last)",
      "\u001b[1;32m<ipython-input-16-51466ebff90e>\u001b[0m in \u001b[0;36m<module>\u001b[1;34m\u001b[0m\n\u001b[1;32m----> 1\u001b[1;33m \u001b[0moutfile\u001b[0m \u001b[1;33m=\u001b[0m \u001b[0mopen\u001b[0m\u001b[1;33m(\u001b[0m\u001b[0methano_file\u001b[0m\u001b[1;33m,\u001b[0m \u001b[1;34m'r'\u001b[0m\u001b[1;33m)\u001b[0m\u001b[1;33m\u001b[0m\u001b[1;33m\u001b[0m\u001b[0m\n\u001b[0m",
      "\u001b[1;31mNameError\u001b[0m: name 'ethano_file' is not defined"
     ]
    }
   ],
   "source": [
    "outfile = open(ethano_file, 'r')"
   ]
  },
  {
   "cell_type": "code",
   "execution_count": null,
   "metadata": {},
   "outputs": [],
   "source": []
  },
  {
   "cell_type": "code",
   "execution_count": null,
   "metadata": {},
   "outputs": [],
   "source": []
  },
  {
   "cell_type": "code",
   "execution_count": 12,
   "metadata": {},
   "outputs": [],
   "source": [
    "import os \n",
    "ethanol_file = os.path.join('data','outfiles','ethanol.out')"
   ]
  },
  {
   "cell_type": "code",
   "execution_count": 14,
   "metadata": {},
   "outputs": [
    {
     "name": "stdout",
     "output_type": "stream",
     "text": [
      "data\\outfiles\\ethanol.out\n"
     ]
    }
   ],
   "source": [
    "print (ethanol_file)"
   ]
  },
  {
   "cell_type": "code",
   "execution_count": 19,
   "metadata": {},
   "outputs": [
    {
     "ename": "FileNotFoundError",
     "evalue": "[Errno 2] No such file or directory: 'data\\\\outfiles\\\\ethanol.out'",
     "output_type": "error",
     "traceback": [
      "\u001b[1;31m---------------------------------------------------------------------------\u001b[0m",
      "\u001b[1;31mFileNotFoundError\u001b[0m                         Traceback (most recent call last)",
      "\u001b[1;32m<ipython-input-19-c1f743a6bbb4>\u001b[0m in \u001b[0;36m<module>\u001b[1;34m\u001b[0m\n\u001b[1;32m----> 1\u001b[1;33m \u001b[0moutfile\u001b[0m \u001b[1;33m=\u001b[0m \u001b[0mopen\u001b[0m\u001b[1;33m(\u001b[0m\u001b[0methanol_file\u001b[0m\u001b[1;33m,\u001b[0m\u001b[1;34m'r'\u001b[0m\u001b[1;33m)\u001b[0m\u001b[1;33m\u001b[0m\u001b[1;33m\u001b[0m\u001b[0m\n\u001b[0m",
      "\u001b[1;31mFileNotFoundError\u001b[0m: [Errno 2] No such file or directory: 'data\\\\outfiles\\\\ethanol.out'"
     ]
    }
   ],
   "source": [
    "outfile = open(ethanol_file,'r')"
   ]
  },
  {
   "cell_type": "code",
   "execution_count": null,
   "metadata": {},
   "outputs": [],
   "source": []
  }
 ],
 "metadata": {
  "kernelspec": {
   "display_name": "Python 3",
   "language": "python",
   "name": "python3"
  },
  "language_info": {
   "codemirror_mode": {
    "name": "ipython",
    "version": 3
   },
   "file_extension": ".py",
   "mimetype": "text/x-python",
   "name": "python",
   "nbconvert_exporter": "python",
   "pygments_lexer": "ipython3",
   "version": "3.7.3"
  }
 },
 "nbformat": 4,
 "nbformat_minor": 2
}
