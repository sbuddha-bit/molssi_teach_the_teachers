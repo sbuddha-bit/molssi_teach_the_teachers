{
 "cells": [
  {
   "cell_type": "code",
   "execution_count": null,
   "metadata": {},
   "outputs": [],
   "source": [
    "## Geometry Analysis\n"
   ]
  },
  {
   "cell_type": "code",
   "execution_count": 10,
   "metadata": {},
   "outputs": [
    {
     "name": "stdout",
     "output_type": "stream",
     "text": [
      "O to H1 : 0.969\n",
      "O to H2 : 0.969\n",
      "H1 to O : 0.969\n",
      "H2 to O : 0.969\n"
     ]
    }
   ],
   "source": [
    "import numpy\n",
    "import os\n",
    "\n",
    "file_location = os.path.join('data','data', 'water.xyz')\n",
    "xyz_file = numpy.genfromtxt(fname=file_location, skip_header=2,  dtype='unicode')\n",
    "symbols = xyz_file[:,0]\n",
    "coordinates = (xyz_file[:,1:])\n",
    "coordinates = coordinates.astype(numpy.float)\n",
    "num_atoms = len(symbols)\n",
    "BLfile = open('bond_lengths.txt','w+')   #Open a file for writing\n",
    "for num1 in range(0,num_atoms):\n",
    "    for num2 in range(0,num_atoms):\n",
    "        x_distance = coordinates[num1,0] - coordinates[num2,0]\n",
    "        y_distance = coordinates[num1,1] - coordinates[num2,1]\n",
    "        z_distance = coordinates[num1,2] - coordinates[num2,2]\n",
    "        bond_length_12 = numpy.sqrt(x_distance**2+y_distance**2+z_distance**2)\n",
    "        if bond_length_12>0 and bond_length_12 <1.5:\n",
    "            print(F'{symbols[num1]} to {symbols[num2]} : {bond_length_12:.3f}') \n"
   ]
  },
  {
   "cell_type": "code",
   "execution_count": 11,
   "metadata": {},
   "outputs": [
    {
     "ename": "SyntaxError",
     "evalue": "unexpected EOF while parsing (<ipython-input-11-7cf7107e1be4>, line 4)",
     "output_type": "error",
     "traceback": [
      "\u001b[1;36m  File \u001b[1;32m\"<ipython-input-11-7cf7107e1be4>\"\u001b[1;36m, line \u001b[1;32m4\u001b[0m\n\u001b[1;33m    #return value_to_return\u001b[0m\n\u001b[1;37m                           ^\u001b[0m\n\u001b[1;31mSyntaxError\u001b[0m\u001b[1;31m:\u001b[0m unexpected EOF while parsing\n"
     ]
    }
   ],
   "source": [
    "def function_name(parameters):\n",
    "   # function code goes \n",
    "    #this could be multiple lines\n",
    "    #return value_to_return"
   ]
  },
  {
   "cell_type": "code",
   "execution_count": 28,
   "metadata": {},
   "outputs": [],
   "source": [
    "def calculate_distance(atom1_coord, atom2_coord):\n",
    "    \"\"\"docstring\"\"\"\n",
    "    \n",
    "    x_distance =atom1_coord[0]-atom2_coord[0]\n",
    "    y_distance = atom1_coord[1]-atom2_coord[1]\n",
    "    z_distance = atom1_coord[2]-atom2_coord[2]\n",
    "    bond_length_12 = numpy.sqrt(x_distance**2 + y_distance**2 + z_distance**2)\n",
    "    return bond_length_12"
   ]
  },
  {
   "cell_type": "code",
   "execution_count": 29,
   "metadata": {},
   "outputs": [
    {
     "name": "stdout",
     "output_type": "stream",
     "text": [
      "O to H1 : 0.969\n",
      "O to H2 : 0.969\n"
     ]
    }
   ],
   "source": [
    "num_atoms = len(symbols)\n",
    "\n",
    "for num1 in range(0,num_atoms):\n",
    "    for num2 in range(0,num_atoms):\n",
    "        if num1<num2:\n",
    "            bond_length_12 = calculate_distance(coordinates[num1], coordinates[num2])\n",
    "            if bond_length_12>0 and bond_length_12 <1.5:\n",
    "                print(F'{symbols[num1]} to {symbols[num2]} : {bond_length_12:.3f}') "
   ]
  },
  {
   "cell_type": "code",
   "execution_count": 31,
   "metadata": {},
   "outputs": [
    {
     "name": "stdout",
     "output_type": "stream",
     "text": [
      "Help on function calculate_distance in module __main__:\n",
      "\n",
      "calculate_distance(atom1_coord, atom2_coord)\n",
      "    docstring\n",
      "\n"
     ]
    }
   ],
   "source": [
    "help(calculate_distance)\n",
    "#write a new function called bond_check. Check and see if a distance is between 0 and 1.5 \n",
    "#angstroms. return True or False\n",
    "\n",
    "def bond_check(distance):\n",
    "    \"\"\" The function accepts a single distance (one number) and checks to see if it is between 0 and 1.5. It returns True or False.\"\"\""
   ]
  },
  {
   "cell_type": "code",
   "execution_count": 34,
   "metadata": {},
   "outputs": [
    {
     "ename": "SyntaxError",
     "evalue": "invalid syntax (<ipython-input-34-ce4eab393c03>, line 1)",
     "output_type": "error",
     "traceback": [
      "\u001b[1;36m  File \u001b[1;32m\"<ipython-input-34-ce4eab393c03>\"\u001b[1;36m, line \u001b[1;32m1\u001b[0m\n\u001b[1;33m    bond_check(distance, minimum_length, maximum_lenght):\u001b[0m\n\u001b[1;37m                                                         ^\u001b[0m\n\u001b[1;31mSyntaxError\u001b[0m\u001b[1;31m:\u001b[0m invalid syntax\n"
     ]
    }
   ],
   "source": [
    "bond_check(distance, minimum_length, maximum_lenght):\n",
    "    \"\"\"The function accepts a single distance(one number) and checks to see if its betwee the specified minimum and maximum values. It returns True or False.\"\"\""
   ]
  },
  {
   "cell_type": "code",
   "execution_count": null,
   "metadata": {},
   "outputs": [],
   "source": []
  },
  {
   "cell_type": "code",
   "execution_count": 50,
   "metadata": {},
   "outputs": [],
   "source": [
    "def bond_check(distance, minimum_length =0, maximum_length =1.5):\n",
    "    if distance > minimum_length and distance<maximum_length:\n",
    "        return True\n",
    "    else:\n",
    "        return False"
   ]
  },
  {
   "cell_type": "code",
   "execution_count": 46,
   "metadata": {},
   "outputs": [],
   "source": [
    "#write a function that reads in and processes an xyz file\n",
    "#Function name open_xyz\n",
    "#Input filename\n",
    "#Two ouputs: symbols and coordinates"
   ]
  },
  {
   "cell_type": "code",
   "execution_count": 57,
   "metadata": {},
   "outputs": [],
   "source": [
    "def open_xyz(xyz_file):\n",
    "    \"\"\" Opens a file and provides two files one with symbols and one with coordinates\"\"\"\n",
    "    xyz_file = numpy.genfromtxt(fname=filename, skip_header=2, dtype='unicode')\n",
    "    symbols = xyz_file[:,0]\n",
    "    coordinates = xyz_file[:,1:]\n",
    "    coordinates = coordinates.astype(numpy.float)\n",
    "    return symbols,coordinates"
   ]
  },
  {
   "cell_type": "code",
   "execution_count": 51,
   "metadata": {},
   "outputs": [
    {
     "data": {
      "text/plain": [
       "False"
      ]
     },
     "execution_count": 51,
     "metadata": {},
     "output_type": "execute_result"
    }
   ],
   "source": [
    "bond_check(1.5)"
   ]
  },
  {
   "cell_type": "code",
   "execution_count": 60,
   "metadata": {},
   "outputs": [
    {
     "name": "stdout",
     "output_type": "stream",
     "text": [
      "O to H1: 0.969\n",
      "O to H2: 0.969\n"
     ]
    }
   ],
   "source": [
    "def open_xyz(filename):\n",
    "    \"\"\" Opens a file and provides two files one with symbols and one with coordinates\"\"\"\n",
    "    xyz_file = numpy.genfromtxt(fname=filename, skip_header=2, dtype='unicode')\n",
    "    symbols = xyz_file[:,0]\n",
    "    coordinates = xyz_file[:,1:]\n",
    "    coordinates = coordinates.astype(numpy.float)\n",
    "    return symbols,coordinates\n",
    "\n",
    "def bond_check(distance, minimum_length =0, maximum_length =1.5):\n",
    "    if distance > minimum_length and distance<maximum_length:\n",
    "        return True\n",
    "    else:\n",
    "        return False\n",
    "    \n",
    "    \n",
    "def calculate_distance(atom1_coord, atom2_coord):\n",
    "    \"\"\"docstring\"\"\"\n",
    "    \n",
    "    x_distance =atom1_coord[0]-atom2_coord[0]\n",
    "    y_distance = atom1_coord[1]-atom2_coord[1]\n",
    "    z_distance = atom1_coord[2]-atom2_coord[2]\n",
    "    bond_length_12 = numpy.sqrt(x_distance**2 + y_distance**2 + z_distance**2)\n",
    "    return bond_length_12\n",
    "\n",
    "file_location =os.path.join('data','data', 'water.xyz')\n",
    "symbols, coord = open_xyz(file_location)\n",
    "num_atoms = len(symbols)\n",
    "for num1 in range(0, num_atoms):\n",
    "    for num2 in range(0,num_atoms):\n",
    "        if num1<num2:\n",
    "            bond_lenght_12 =calculate_distance(coord[num1], coord[num2])\n",
    "            if bond_check(bond_lenght_12) is True:\n",
    "                print(F'{symbols[num1]} to {symbols[num2]}: {bond_lenght_12:.3f}')"
   ]
  }
 ],
 "metadata": {
  "kernelspec": {
   "display_name": "Python 3",
   "language": "python",
   "name": "python3"
  },
  "language_info": {
   "codemirror_mode": {
    "name": "ipython",
    "version": 3
   },
   "file_extension": ".py",
   "mimetype": "text/x-python",
   "name": "python",
   "nbconvert_exporter": "python",
   "pygments_lexer": "ipython3",
   "version": "3.7.3"
  }
 },
 "nbformat": 4,
 "nbformat_minor": 2
}
