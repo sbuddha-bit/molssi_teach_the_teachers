{
 "cells": [
  {
   "cell_type": "markdown",
   "metadata": {},
   "source": [
    "#import library_name\n",
    "output=library_name.function_name(input)"
   ]
  },
  {
   "cell_type": "code",
   "execution_count": 1,
   "metadata": {},
   "outputs": [
    {
     "data": {
      "text/plain": [
       "'C:\\\\Users\\\\tbsha\\\\OneDrive\\\\Desktop\\\\cms_workshop'"
      ]
     },
     "execution_count": 1,
     "metadata": {},
     "output_type": "execute_result"
    }
   ],
   "source": [
    "pwd\n"
   ]
  },
  {
   "cell_type": "code",
   "execution_count": 2,
   "metadata": {},
   "outputs": [
    {
     "name": "stdout",
     "output_type": "stream",
     "text": [
      " Volume in drive C is Local Disk\n",
      " Volume Serial Number is 44C6-3E83\n",
      "\n",
      " Directory of C:\\Users\\tbsha\\OneDrive\\Desktop\\cms_workshop\n",
      "\n",
      "08/08/2019  02:45 PM    <DIR>          .\n",
      "08/08/2019  02:45 PM    <DIR>          ..\n",
      "08/08/2019  02:16 PM    <DIR>          .ipynb_checkpoints\n",
      "08/08/2019  02:45 PM    <DIR>          data\n",
      "08/08/2019  11:33 AM           191,618 data.zip\n",
      "08/08/2019  11:40 AM           355,359 distance_data_headers.csv\n",
      "08/08/2019  02:07 PM             4,982 file parsing.ipynb\n",
      "08/08/2019  01:31 PM           150,397 Graphing.ipynb\n",
      "08/08/2019  02:43 PM             3,839 multiple file parsing.ipynb\n",
      "08/08/2019  11:41 AM            61,568 sapt.out\n",
      "08/08/2019  01:08 PM           211,722 THR4_ATP.png\n",
      "08/08/2019  01:10 PM            26,455 two_samples.png\n",
      "               8 File(s)      1,005,940 bytes\n",
      "               4 Dir(s)  182,456,201,216 bytes free\n"
     ]
    }
   ],
   "source": [
    "ls\n"
   ]
  },
  {
   "cell_type": "code",
   "execution_count": 31,
   "metadata": {},
   "outputs": [],
   "source": [
    "import os\n",
    "outfile_directory=os.path.join ('data','data','outfiles')"
   ]
  },
  {
   "cell_type": "code",
   "execution_count": 32,
   "metadata": {},
   "outputs": [
    {
     "name": "stdout",
     "output_type": "stream",
     "text": [
      "data\\data\\outfiles\\*.out\n"
     ]
    }
   ],
   "source": [
    "file_location=os.path.join(outfile_directory,\"*.out\")\n",
    "print(file_location)"
   ]
  },
  {
   "cell_type": "code",
   "execution_count": 33,
   "metadata": {},
   "outputs": [
    {
     "name": "stdout",
     "output_type": "stream",
     "text": [
      "['data\\\\data\\\\outfiles\\\\butanol.out', 'data\\\\data\\\\outfiles\\\\decanol.out', 'data\\\\data\\\\outfiles\\\\ethanol.out', 'data\\\\data\\\\outfiles\\\\heptanol.out', 'data\\\\data\\\\outfiles\\\\hexanol.out', 'data\\\\data\\\\outfiles\\\\methanol.out', 'data\\\\data\\\\outfiles\\\\nonanol.out', 'data\\\\data\\\\outfiles\\\\octanol.out', 'data\\\\data\\\\outfiles\\\\pentanol.out', 'data\\\\data\\\\outfiles\\\\propanol.out']\n"
     ]
    }
   ],
   "source": [
    "import glob\n",
    "filenames=glob.glob(file_location)\n",
    "print(filenames)"
   ]
  },
  {
   "cell_type": "code",
   "execution_count": 34,
   "metadata": {},
   "outputs": [
    {
     "name": "stdout",
     "output_type": "stream",
     "text": [
      "['data\\\\data\\\\outfiles\\\\butanol.out', 'data\\\\data\\\\outfiles\\\\decanol.out', 'data\\\\data\\\\outfiles\\\\ethanol.out', 'data\\\\data\\\\outfiles\\\\heptanol.out', 'data\\\\data\\\\outfiles\\\\hexanol.out', 'data\\\\data\\\\outfiles\\\\methanol.out', 'data\\\\data\\\\outfiles\\\\nonanol.out', 'data\\\\data\\\\outfiles\\\\octanol.out', 'data\\\\data\\\\outfiles\\\\pentanol.out', 'data\\\\data\\\\outfiles\\\\propanol.out']\n"
     ]
    }
   ],
   "source": [
    "print(filenames)"
   ]
  },
  {
   "cell_type": "code",
   "execution_count": 35,
   "metadata": {},
   "outputs": [
    {
     "name": "stdout",
     "output_type": "stream",
     "text": [
      "-232.1655798347283\n",
      "-466.3836241400086\n",
      "-154.09130176573018\n",
      "-349.27397687072676\n",
      "-310.2385332251633\n",
      "-115.04800861868374\n",
      "-427.3465180082815\n",
      "-388.3110864554743\n",
      "-271.20138119895074\n",
      "-193.12836249728798\n"
     ]
    }
   ],
   "source": [
    " for f in filenames:\n",
    "        outfile=open(f,'r')\n",
    "        data = outfile.readlines()\n",
    "        outfile.close()\n",
    "        for line in data:\n",
    "            if 'Final Energy' in line:\n",
    "                energy_line=line\n",
    "                words=energy_line.split()\n",
    "                energy=float(words[3])\n",
    "                print(energy)"
   ]
  },
  {
   "cell_type": "code",
   "execution_count": 39,
   "metadata": {},
   "outputs": [
    {
     "name": "stdout",
     "output_type": "stream",
     "text": [
      "data\\data\\outfiles\\butanol.out\n"
     ]
    }
   ],
   "source": [
    "first_file=filenames[0]\n",
    "print (first_file)"
   ]
  },
  {
   "cell_type": "code",
   "execution_count": 43,
   "metadata": {},
   "outputs": [
    {
     "ename": "NameError",
     "evalue": "name 'file_name' is not defined",
     "output_type": "error",
     "traceback": [
      "\u001b[1;31m---------------------------------------------------------------------------\u001b[0m",
      "\u001b[1;31mNameError\u001b[0m                                 Traceback (most recent call last)",
      "\u001b[1;32m<ipython-input-43-7db899d6eec3>\u001b[0m in \u001b[0;36m<module>\u001b[1;34m\u001b[0m\n\u001b[1;32m----> 1\u001b[1;33m \u001b[0mfile_name\u001b[0m\u001b[1;33m.\u001b[0m\u001b[0msplit\u001b[0m\u001b[1;33m(\u001b[0m\u001b[1;34m','\u001b[0m\u001b[1;33m)\u001b[0m\u001b[1;33m\u001b[0m\u001b[1;33m\u001b[0m\u001b[0m\n\u001b[0m\u001b[0;32m      2\u001b[0m \u001b[0mmolecule_name\u001b[0m\u001b[1;33m=\u001b[0m\u001b[0msplit_filename\u001b[0m\u001b[1;33m[\u001b[0m\u001b[1;36m0\u001b[0m\u001b[1;33m]\u001b[0m\u001b[1;33m\u001b[0m\u001b[1;33m\u001b[0m\u001b[0m\n\u001b[0;32m      3\u001b[0m \u001b[0mprint\u001b[0m\u001b[1;33m(\u001b[0m\u001b[0mmolecule_name\u001b[0m\u001b[1;33m)\u001b[0m\u001b[1;33m\u001b[0m\u001b[1;33m\u001b[0m\u001b[0m\n",
      "\u001b[1;31mNameError\u001b[0m: name 'file_name' is not defined"
     ]
    }
   ],
   "source": [
    "file_name.split(',')\n",
    "molecule_name=split_filename[0]\n",
    "print(molecule_name)"
   ]
  },
  {
   "cell_type": "code",
   "execution_count": null,
   "metadata": {},
   "outputs": [],
   "source": []
  }
 ],
 "metadata": {
  "kernelspec": {
   "display_name": "Python 3",
   "language": "python",
   "name": "python3"
  },
  "language_info": {
   "codemirror_mode": {
    "name": "ipython",
    "version": 3
   },
   "file_extension": ".py",
   "mimetype": "text/x-python",
   "name": "python",
   "nbconvert_exporter": "python",
   "pygments_lexer": "ipython3",
   "version": "3.7.3"
  }
 },
 "nbformat": 4,
 "nbformat_minor": 2
}
