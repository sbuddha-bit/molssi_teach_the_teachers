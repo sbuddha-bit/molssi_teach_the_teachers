{
 "cells": [
  {
   "cell_type": "code",
   "execution_count": null,
   "metadata": {},
   "outputs": [],
   "source": [
    "def open_xyz(filename):\n",
    "    \"\"\" Opens a file and provides two files one with symbols and one with coordinates\"\"\"\n",
    "    xyz_file = numpy.genfromtxt(fname=filename, skip_header=2, dtype='unicode')\n",
    "    symbols = xyz_file[:,0]\n",
    "    coordinates = xyz_file[:,1:]\n",
    "    coordinates = coordinates.astype(numpy.float)\n",
    "    return symbols,coordinates\n",
    "\n",
    "def bond_check(distance, minimum_length =0, maximum_length =1.5):\n",
    "    if distance > minimum_length and distance<maximum_length:\n",
    "        return True\n",
    "    else:\n",
    "        return False\n",
    "    \n",
    "    \n",
    "def calculate_distance(atom1_coord, atom2_coord):\n",
    "    \"\"\"docstring\"\"\"\n",
    "    \n",
    "    x_distance =atom1_coord[0]-atom2_coord[0]\n",
    "    y_distance = atom1_coord[1]-atom2_coord[1]\n",
    "    z_distance = atom1_coord[2]-atom2_coord[2]\n",
    "    bond_length_12 = numpy.sqrt(x_distance**2 + y_distance**2 + z_distance**2)\n",
    "    return bond_length_12\n",
    "\n",
    "file_location =os.path.join('data','data', 'water.xyz')\n",
    "symbols, coord = open_xyz(file_location)\n",
    "num_atoms = len(symbols)\n",
    "for num1 in range(0, num_atoms):\n",
    "    for num2 in range(0,num_atoms):\n",
    "        if num1<num2:\n",
    "            bond_lenght_12 =calculate_distance(coord[num1], coord[num2])\n",
    "            if bond_check(bond_lenght_12) is True:\n",
    "                print(F'{symbols[num1]} to {symbols[num2]}: {bond_lenght_12:.3f}')"
   ]
  }
 ],
 "metadata": {
  "kernelspec": {
   "display_name": "Python 3",
   "language": "python",
   "name": "python3"
  },
  "language_info": {
   "codemirror_mode": {
    "name": "ipython",
    "version": 3
   },
   "file_extension": ".py",
   "mimetype": "text/x-python",
   "name": "python",
   "nbconvert_exporter": "python",
   "pygments_lexer": "ipython3",
   "version": "3.7.3"
  }
 },
 "nbformat": 4,
 "nbformat_minor": 2
}
